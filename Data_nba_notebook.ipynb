{
 "cells": [
  {
   "cell_type": "code",
   "execution_count": 2,
   "id": "6a334dd7-3e21-4d14-965a-33b615e92517",
   "metadata": {},
   "outputs": [
    {
     "name": "stdout",
     "output_type": "stream",
     "text": [
      "File downloaded\n"
     ]
    }
   ],
   "source": [
    "import requests\n",
    "\n",
    "DATASET_URL = 'https://raw.githubusercontent.com/fivethirtyeight/data/master/nba-elo/nbaallelo.csv'\n",
    "FILENAME = 'tmp/NBA_DATA.csv'\n",
    "\n",
    "#fetch external file\n",
    "\n",
    "response = requests.get(DATASET_URL)\n",
    "response.raise_for_status()\n",
    "\n",
    "#Save data in file\n",
    "\n",
    "with open(FILENAME, 'wb') as csv_file:\n",
    "    csv_file.write(response.content)\n",
    "\n",
    "#print finished\n",
    "print('File downloaded')\n",
    "    \n",
    "\n"
   ]
  }
 ],
 "metadata": {
  "kernelspec": {
   "display_name": "Python 3 (ipykernel)",
   "language": "python",
   "name": "python3"
  },
  "language_info": {
   "codemirror_mode": {
    "name": "ipython",
    "version": 3
   },
   "file_extension": ".py",
   "mimetype": "text/x-python",
   "name": "python",
   "nbconvert_exporter": "python",
   "pygments_lexer": "ipython3",
   "version": "3.10.11"
  }
 },
 "nbformat": 4,
 "nbformat_minor": 5
}
